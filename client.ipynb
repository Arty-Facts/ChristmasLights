{
 "cells": [
  {
   "cell_type": "code",
   "execution_count": 33,
   "metadata": {},
   "outputs": [
    {
     "name": "stdout",
     "output_type": "stream",
     "text": [
      "200\n",
      "1->0,255,0\n",
      "2->0,255,255\n"
     ]
    }
   ],
   "source": [
    "import requests\n",
    "PARAMS = {\n",
    "    '1': \"0,255,0\", \n",
    "    \"2\": \"0,255,255\",\n",
    "         }\n",
    "response = requests.post(\"http://127.0.0.1:5000/set\", PARAMS)\n",
    "print(response.status_code)\n",
    "print(response.text) # Return a string representation of the data payload\n"
   ]
  },
  {
   "cell_type": "code",
   "execution_count": 34,
   "metadata": {},
   "outputs": [
    {
     "name": "stdout",
     "output_type": "stream",
     "text": [
      "200\n",
      "All clear\n"
     ]
    }
   ],
   "source": [
    "response = requests.get(\"http://127.0.0.1:5000/clear\")\n",
    "print(response.status_code)\n",
    "print(response.text)"
   ]
  },
  {
   "cell_type": "code",
   "execution_count": null,
   "metadata": {},
   "outputs": [],
   "source": []
  }
 ],
 "metadata": {
  "interpreter": {
   "hash": "34a1ced83255edebc66a723278cdca67e727beb3f04d460546b87360fa6d18ad"
  },
  "kernelspec": {
   "display_name": "Python 3.6.8 32-bit",
   "language": "python",
   "name": "python3"
  },
  "language_info": {
   "codemirror_mode": {
    "name": "ipython",
    "version": 3
   },
   "file_extension": ".py",
   "mimetype": "text/x-python",
   "name": "python",
   "nbconvert_exporter": "python",
   "pygments_lexer": "ipython3",
   "version": "3.9.7"
  },
  "orig_nbformat": 4
 },
 "nbformat": 4,
 "nbformat_minor": 2
}
